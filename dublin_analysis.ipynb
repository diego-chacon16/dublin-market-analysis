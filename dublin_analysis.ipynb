{
 "cells": [
  {
   "cell_type": "code",
   "execution_count": 38,
   "id": "bf177aee-8486-408b-9e6a-2b25def38a99",
   "metadata": {},
   "outputs": [],
   "source": [
    "# import libraries/dataset\n",
    "\n",
    "import pandas as pd\n",
    "import numpy as np\n",
    "import seaborn as sns\n",
    "import matplotlib.pyplot as plt\n",
    "import scipy\n",
    "from scipy import stats\n",
    "\n",
    "contacts = (\"data/contacts.tsv\")\n",
    "contacts = pd.read_csv(contacts, sep=\"\\t\")\n",
    "\n",
    "searches = (\"data/searches.tsv\")\n",
    "searches = pd.read_csv(searches, sep=\"\\t\")"
   ]
  },
  {
   "cell_type": "markdown",
   "id": "e3a88765-14aa-46fc-8a7c-076c9d726428",
   "metadata": {},
   "source": [
    "### Assignment \n",
    "\n",
    "+ My new Manager at Airbnb wants to understand the following:\n",
    "\n",
    "\n",
    "+ What guests are searching for in Dublin\n",
    "+ Which inquiries do hosts typically accept\n",
    "+ What gap exists between guest demand and host supply\n",
    "+ Any other information through data that can help paint a clear picture of the demand/supply in Dublin"
   ]
  },
  {
   "cell_type": "markdown",
   "id": "1c1fcee5-0182-40ee-9967-daaca11d3ee2",
   "metadata": {},
   "source": [
    "### Data Exploration\n",
    "\n",
    "+ Understand the dataset\n",
    "+ Look for null values and the % it makes for each column"
   ]
  },
  {
   "cell_type": "code",
   "execution_count": 2,
   "id": "fbc15bc5-925d-4178-8978-a385b56d1fa5",
   "metadata": {},
   "outputs": [
    {
     "data": {
      "text/html": [
       "<div>\n",
       "<style scoped>\n",
       "    .dataframe tbody tr th:only-of-type {\n",
       "        vertical-align: middle;\n",
       "    }\n",
       "\n",
       "    .dataframe tbody tr th {\n",
       "        vertical-align: top;\n",
       "    }\n",
       "\n",
       "    .dataframe thead th {\n",
       "        text-align: right;\n",
       "    }\n",
       "</style>\n",
       "<table border=\"1\" class=\"dataframe\">\n",
       "  <thead>\n",
       "    <tr style=\"text-align: right;\">\n",
       "      <th></th>\n",
       "      <th>id_guest</th>\n",
       "      <th>id_host</th>\n",
       "      <th>id_listing</th>\n",
       "      <th>ts_contact_at</th>\n",
       "      <th>ts_reply_at</th>\n",
       "      <th>ts_accepted_at</th>\n",
       "      <th>ts_booking_at</th>\n",
       "      <th>ds_checkin</th>\n",
       "      <th>ds_checkout</th>\n",
       "      <th>n_guests</th>\n",
       "      <th>n_messages</th>\n",
       "    </tr>\n",
       "  </thead>\n",
       "  <tbody>\n",
       "    <tr>\n",
       "      <th>0</th>\n",
       "      <td>000dfad9-459b-4f0b-8310-3d6ab34e4f57</td>\n",
       "      <td>13bb24b8-d432-43a2-9755-5ea11b43bb69</td>\n",
       "      <td>21d2b1a2-fdc3-4b4c-a1f0-0eaf0cc02370</td>\n",
       "      <td>2014-10-04 16:26:28.0</td>\n",
       "      <td>2014-10-04 16:26:28.0</td>\n",
       "      <td>2014-10-04 16:26:28.0</td>\n",
       "      <td>2014-10-04 16:26:28.0</td>\n",
       "      <td>2014-10-13</td>\n",
       "      <td>2014-10-15</td>\n",
       "      <td>2</td>\n",
       "      <td>13</td>\n",
       "    </tr>\n",
       "    <tr>\n",
       "      <th>1</th>\n",
       "      <td>00197051-c6cb-4c3a-99e9-86615b819874</td>\n",
       "      <td>46aa3897-9c00-4d76-ac66-a307593d0675</td>\n",
       "      <td>fb5ed09a-9848-4f2c-b2ef-34deb62164fb</td>\n",
       "      <td>2014-11-04 09:10:03.0</td>\n",
       "      <td>2014-11-04 09:45:50.0</td>\n",
       "      <td>2014-11-04 09:45:50.0</td>\n",
       "      <td>2014-11-04 12:20:46.0</td>\n",
       "      <td>2014-11-27</td>\n",
       "      <td>2014-11-30</td>\n",
       "      <td>1</td>\n",
       "      <td>10</td>\n",
       "    </tr>\n",
       "    <tr>\n",
       "      <th>2</th>\n",
       "      <td>0027538e-aa9e-4a02-8979-b8397e5d4cba</td>\n",
       "      <td>6bbb88ca-db66-48c5-9c4b-862f7706284a</td>\n",
       "      <td>d3871da6-8012-4dc4-b508-c91f2c10c297</td>\n",
       "      <td>2014-10-10 12:02:50.0</td>\n",
       "      <td>2014-10-10 15:07:01.0</td>\n",
       "      <td>NaN</td>\n",
       "      <td>NaN</td>\n",
       "      <td>2014-10-17</td>\n",
       "      <td>2014-10-19</td>\n",
       "      <td>2</td>\n",
       "      <td>3</td>\n",
       "    </tr>\n",
       "    <tr>\n",
       "      <th>3</th>\n",
       "      <td>0027538e-aa9e-4a02-8979-b8397e5d4cba</td>\n",
       "      <td>8772bc85-a9b7-4d85-a52d-41f3620c2912</td>\n",
       "      <td>0d9b5583-8053-4b67-adfe-8c29eb12efed</td>\n",
       "      <td>2014-10-10 15:23:53.0</td>\n",
       "      <td>NaN</td>\n",
       "      <td>NaN</td>\n",
       "      <td>NaN</td>\n",
       "      <td>2014-10-17</td>\n",
       "      <td>2014-10-19</td>\n",
       "      <td>2</td>\n",
       "      <td>2</td>\n",
       "    </tr>\n",
       "    <tr>\n",
       "      <th>4</th>\n",
       "      <td>0027538e-aa9e-4a02-8979-b8397e5d4cba</td>\n",
       "      <td>ac162061-55e2-4072-ac91-2e080f9581f2</td>\n",
       "      <td>ec68e0af-b0f2-42c7-b6f8-d41061c083ff</td>\n",
       "      <td>2014-10-10 15:22:26.0</td>\n",
       "      <td>2014-10-10 15:24:26.0</td>\n",
       "      <td>2014-10-10 15:24:26.0</td>\n",
       "      <td>2014-10-10 15:52:42.0</td>\n",
       "      <td>2014-10-17</td>\n",
       "      <td>2014-10-19</td>\n",
       "      <td>2</td>\n",
       "      <td>14</td>\n",
       "    </tr>\n",
       "  </tbody>\n",
       "</table>\n",
       "</div>"
      ],
      "text/plain": [
       "                               id_guest                               id_host  \\\n",
       "0  000dfad9-459b-4f0b-8310-3d6ab34e4f57  13bb24b8-d432-43a2-9755-5ea11b43bb69   \n",
       "1  00197051-c6cb-4c3a-99e9-86615b819874  46aa3897-9c00-4d76-ac66-a307593d0675   \n",
       "2  0027538e-aa9e-4a02-8979-b8397e5d4cba  6bbb88ca-db66-48c5-9c4b-862f7706284a   \n",
       "3  0027538e-aa9e-4a02-8979-b8397e5d4cba  8772bc85-a9b7-4d85-a52d-41f3620c2912   \n",
       "4  0027538e-aa9e-4a02-8979-b8397e5d4cba  ac162061-55e2-4072-ac91-2e080f9581f2   \n",
       "\n",
       "                             id_listing          ts_contact_at  \\\n",
       "0  21d2b1a2-fdc3-4b4c-a1f0-0eaf0cc02370  2014-10-04 16:26:28.0   \n",
       "1  fb5ed09a-9848-4f2c-b2ef-34deb62164fb  2014-11-04 09:10:03.0   \n",
       "2  d3871da6-8012-4dc4-b508-c91f2c10c297  2014-10-10 12:02:50.0   \n",
       "3  0d9b5583-8053-4b67-adfe-8c29eb12efed  2014-10-10 15:23:53.0   \n",
       "4  ec68e0af-b0f2-42c7-b6f8-d41061c083ff  2014-10-10 15:22:26.0   \n",
       "\n",
       "             ts_reply_at         ts_accepted_at          ts_booking_at  \\\n",
       "0  2014-10-04 16:26:28.0  2014-10-04 16:26:28.0  2014-10-04 16:26:28.0   \n",
       "1  2014-11-04 09:45:50.0  2014-11-04 09:45:50.0  2014-11-04 12:20:46.0   \n",
       "2  2014-10-10 15:07:01.0                    NaN                    NaN   \n",
       "3                    NaN                    NaN                    NaN   \n",
       "4  2014-10-10 15:24:26.0  2014-10-10 15:24:26.0  2014-10-10 15:52:42.0   \n",
       "\n",
       "   ds_checkin ds_checkout  n_guests  n_messages  \n",
       "0  2014-10-13  2014-10-15         2          13  \n",
       "1  2014-11-27  2014-11-30         1          10  \n",
       "2  2014-10-17  2014-10-19         2           3  \n",
       "3  2014-10-17  2014-10-19         2           2  \n",
       "4  2014-10-17  2014-10-19         2          14  "
      ]
     },
     "execution_count": 2,
     "metadata": {},
     "output_type": "execute_result"
    }
   ],
   "source": [
    "contacts.head(5)"
   ]
  },
  {
   "cell_type": "code",
   "execution_count": 3,
   "id": "b4a2ffc7-a5b6-4b87-b780-c1721a4a6921",
   "metadata": {},
   "outputs": [
    {
     "data": {
      "text/html": [
       "<div>\n",
       "<style scoped>\n",
       "    .dataframe tbody tr th:only-of-type {\n",
       "        vertical-align: middle;\n",
       "    }\n",
       "\n",
       "    .dataframe tbody tr th {\n",
       "        vertical-align: top;\n",
       "    }\n",
       "\n",
       "    .dataframe thead th {\n",
       "        text-align: right;\n",
       "    }\n",
       "</style>\n",
       "<table border=\"1\" class=\"dataframe\">\n",
       "  <thead>\n",
       "    <tr style=\"text-align: right;\">\n",
       "      <th></th>\n",
       "      <th>ds</th>\n",
       "      <th>id_user</th>\n",
       "      <th>ds_checkin</th>\n",
       "      <th>ds_checkout</th>\n",
       "      <th>n_searches</th>\n",
       "      <th>n_nights</th>\n",
       "      <th>n_guests_min</th>\n",
       "      <th>n_guests_max</th>\n",
       "      <th>origin_country</th>\n",
       "      <th>filter_price_min</th>\n",
       "      <th>filter_price_max</th>\n",
       "      <th>filter_room_types</th>\n",
       "      <th>filter_neighborhoods</th>\n",
       "    </tr>\n",
       "  </thead>\n",
       "  <tbody>\n",
       "    <tr>\n",
       "      <th>0</th>\n",
       "      <td>2014-10-01</td>\n",
       "      <td>0000af0a-6f26-4233-9832-27efbfb36148</td>\n",
       "      <td>2014-10-09</td>\n",
       "      <td>2014-10-12</td>\n",
       "      <td>16</td>\n",
       "      <td>3.0</td>\n",
       "      <td>2</td>\n",
       "      <td>2</td>\n",
       "      <td>IE</td>\n",
       "      <td>0.0</td>\n",
       "      <td>67.0</td>\n",
       "      <td>,Entire home/apt,Entire home/apt,Private room,...</td>\n",
       "      <td>NaN</td>\n",
       "    </tr>\n",
       "    <tr>\n",
       "      <th>1</th>\n",
       "      <td>2014-10-01</td>\n",
       "      <td>0000af0a-6f26-4233-9832-27efbfb36148</td>\n",
       "      <td>2014-10-09</td>\n",
       "      <td>2014-10-19</td>\n",
       "      <td>3</td>\n",
       "      <td>10.0</td>\n",
       "      <td>1</td>\n",
       "      <td>2</td>\n",
       "      <td>IE</td>\n",
       "      <td>0.0</td>\n",
       "      <td>67.0</td>\n",
       "      <td>NaN</td>\n",
       "      <td>NaN</td>\n",
       "    </tr>\n",
       "    <tr>\n",
       "      <th>2</th>\n",
       "      <td>2014-10-01</td>\n",
       "      <td>000cd9d3-e05b-4016-9e09-34a6f8ba2fc5</td>\n",
       "      <td>NaN</td>\n",
       "      <td>NaN</td>\n",
       "      <td>1</td>\n",
       "      <td>NaN</td>\n",
       "      <td>1</td>\n",
       "      <td>1</td>\n",
       "      <td>GB</td>\n",
       "      <td>NaN</td>\n",
       "      <td>NaN</td>\n",
       "      <td>NaN</td>\n",
       "      <td>NaN</td>\n",
       "    </tr>\n",
       "    <tr>\n",
       "      <th>3</th>\n",
       "      <td>2014-10-01</td>\n",
       "      <td>000cd9d3-e05b-4016-9e09-34a6f8ba2fc5</td>\n",
       "      <td>2014-11-08</td>\n",
       "      <td>2014-11-10</td>\n",
       "      <td>11</td>\n",
       "      <td>2.0</td>\n",
       "      <td>1</td>\n",
       "      <td>2</td>\n",
       "      <td>GB</td>\n",
       "      <td>NaN</td>\n",
       "      <td>NaN</td>\n",
       "      <td>,Entire home/apt</td>\n",
       "      <td>NaN</td>\n",
       "    </tr>\n",
       "    <tr>\n",
       "      <th>4</th>\n",
       "      <td>2014-10-01</td>\n",
       "      <td>001c04f0-5a94-4ee0-bf5d-3591265256de</td>\n",
       "      <td>NaN</td>\n",
       "      <td>NaN</td>\n",
       "      <td>1</td>\n",
       "      <td>NaN</td>\n",
       "      <td>1</td>\n",
       "      <td>1</td>\n",
       "      <td>IE</td>\n",
       "      <td>NaN</td>\n",
       "      <td>NaN</td>\n",
       "      <td>NaN</td>\n",
       "      <td>NaN</td>\n",
       "    </tr>\n",
       "  </tbody>\n",
       "</table>\n",
       "</div>"
      ],
      "text/plain": [
       "           ds                               id_user  ds_checkin ds_checkout  \\\n",
       "0  2014-10-01  0000af0a-6f26-4233-9832-27efbfb36148  2014-10-09  2014-10-12   \n",
       "1  2014-10-01  0000af0a-6f26-4233-9832-27efbfb36148  2014-10-09  2014-10-19   \n",
       "2  2014-10-01  000cd9d3-e05b-4016-9e09-34a6f8ba2fc5         NaN         NaN   \n",
       "3  2014-10-01  000cd9d3-e05b-4016-9e09-34a6f8ba2fc5  2014-11-08  2014-11-10   \n",
       "4  2014-10-01  001c04f0-5a94-4ee0-bf5d-3591265256de         NaN         NaN   \n",
       "\n",
       "   n_searches  n_nights  n_guests_min  n_guests_max origin_country  \\\n",
       "0          16       3.0             2             2             IE   \n",
       "1           3      10.0             1             2             IE   \n",
       "2           1       NaN             1             1             GB   \n",
       "3          11       2.0             1             2             GB   \n",
       "4           1       NaN             1             1             IE   \n",
       "\n",
       "   filter_price_min  filter_price_max  \\\n",
       "0               0.0              67.0   \n",
       "1               0.0              67.0   \n",
       "2               NaN               NaN   \n",
       "3               NaN               NaN   \n",
       "4               NaN               NaN   \n",
       "\n",
       "                                   filter_room_types filter_neighborhoods  \n",
       "0  ,Entire home/apt,Entire home/apt,Private room,...                  NaN  \n",
       "1                                                NaN                  NaN  \n",
       "2                                                NaN                  NaN  \n",
       "3                                   ,Entire home/apt                  NaN  \n",
       "4                                                NaN                  NaN  "
      ]
     },
     "execution_count": 3,
     "metadata": {},
     "output_type": "execute_result"
    }
   ],
   "source": [
    "searches.head(5)"
   ]
  },
  {
   "cell_type": "code",
   "execution_count": 4,
   "id": "51d18c9d-3f1f-4500-a7f1-451e4ea0211e",
   "metadata": {},
   "outputs": [
    {
     "name": "stdout",
     "output_type": "stream",
     "text": [
      "<class 'pandas.core.frame.DataFrame'>\n",
      "RangeIndex: 7823 entries, 0 to 7822\n",
      "Data columns (total 11 columns):\n",
      " #   Column          Non-Null Count  Dtype \n",
      "---  ------          --------------  ----- \n",
      " 0   id_guest        7823 non-null   object\n",
      " 1   id_host         7823 non-null   object\n",
      " 2   id_listing      7823 non-null   object\n",
      " 3   ts_contact_at   7823 non-null   object\n",
      " 4   ts_reply_at     7219 non-null   object\n",
      " 5   ts_accepted_at  3627 non-null   object\n",
      " 6   ts_booking_at   2174 non-null   object\n",
      " 7   ds_checkin      7823 non-null   object\n",
      " 8   ds_checkout     7823 non-null   object\n",
      " 9   n_guests        7823 non-null   int64 \n",
      " 10  n_messages      7823 non-null   int64 \n",
      "dtypes: int64(2), object(9)\n",
      "memory usage: 672.4+ KB\n"
     ]
    }
   ],
   "source": [
    "contacts.info()"
   ]
  },
  {
   "cell_type": "code",
   "execution_count": 5,
   "id": "0c4069a6-16fa-4521-aae8-ec35e406b598",
   "metadata": {},
   "outputs": [
    {
     "name": "stdout",
     "output_type": "stream",
     "text": [
      "<class 'pandas.core.frame.DataFrame'>\n",
      "RangeIndex: 35737 entries, 0 to 35736\n",
      "Data columns (total 13 columns):\n",
      " #   Column                Non-Null Count  Dtype  \n",
      "---  ------                --------------  -----  \n",
      " 0   ds                    35737 non-null  object \n",
      " 1   id_user               35737 non-null  object \n",
      " 2   ds_checkin            23888 non-null  object \n",
      " 3   ds_checkout           23888 non-null  object \n",
      " 4   n_searches            35737 non-null  int64  \n",
      " 5   n_nights              23888 non-null  float64\n",
      " 6   n_guests_min          35737 non-null  int64  \n",
      " 7   n_guests_max          35737 non-null  int64  \n",
      " 8   origin_country        35737 non-null  object \n",
      " 9   filter_price_min      13322 non-null  float64\n",
      " 10  filter_price_max      13322 non-null  float64\n",
      " 11  filter_room_types     16191 non-null  object \n",
      " 12  filter_neighborhoods  1346 non-null   object \n",
      "dtypes: float64(3), int64(3), object(7)\n",
      "memory usage: 3.5+ MB\n"
     ]
    }
   ],
   "source": [
    "searches.info()"
   ]
  },
  {
   "cell_type": "code",
   "execution_count": 6,
   "id": "4ce061b3-5a0e-4901-904e-cd39346ca614",
   "metadata": {},
   "outputs": [
    {
     "data": {
      "text/plain": [
       "id_guest             0\n",
       "id_host              0\n",
       "id_listing           0\n",
       "ts_contact_at        0\n",
       "ts_reply_at        604\n",
       "ts_accepted_at    4196\n",
       "ts_booking_at     5649\n",
       "ds_checkin           0\n",
       "ds_checkout          0\n",
       "n_guests             0\n",
       "n_messages           0\n",
       "dtype: int64"
      ]
     },
     "execution_count": 6,
     "metadata": {},
     "output_type": "execute_result"
    }
   ],
   "source": [
    "contacts.isnull().sum()"
   ]
  },
  {
   "cell_type": "code",
   "execution_count": 7,
   "id": "c837b7aa-326e-4a0d-8813-31e366183580",
   "metadata": {},
   "outputs": [
    {
     "data": {
      "text/plain": [
       "ds                          0\n",
       "id_user                     0\n",
       "ds_checkin              11849\n",
       "ds_checkout             11849\n",
       "n_searches                  0\n",
       "n_nights                11849\n",
       "n_guests_min                0\n",
       "n_guests_max                0\n",
       "origin_country              0\n",
       "filter_price_min        22415\n",
       "filter_price_max        22415\n",
       "filter_room_types       19546\n",
       "filter_neighborhoods    34391\n",
       "dtype: int64"
      ]
     },
     "execution_count": 7,
     "metadata": {},
     "output_type": "execute_result"
    }
   ],
   "source": [
    "searches.isnull().sum()"
   ]
  },
  {
   "cell_type": "markdown",
   "id": "d9919a10-c819-4762-a473-5cd088729060",
   "metadata": {},
   "source": [
    "### Starting with the searches dataset\n",
    "\n",
    "+ Remove 'filter_neighbourhood' column because 96% of it is null values\n",
    "+ Since it could lead to inaccurate assumptions, therefore it is best to remove it"
   ]
  },
  {
   "cell_type": "code",
   "execution_count": 8,
   "id": "123b30f3-9dea-4ed5-9749-86307cd08a84",
   "metadata": {},
   "outputs": [],
   "source": [
    "# dropping the filter_neighbourhood column\n",
    "\n",
    "searches = searches.drop(columns = ['filter_neighborhoods'])"
   ]
  },
  {
   "cell_type": "code",
   "execution_count": 9,
   "id": "a5eaa279-4ce5-4fe1-be29-773a0bbf3ffa",
   "metadata": {},
   "outputs": [],
   "source": [
    "# Converting date columns to datetime to analyze data more effectively\n",
    "\n",
    "import datetime\n",
    "\n",
    "searches['ds'] = pd.to_datetime(searches['ds'])\n",
    "searches['ds_checkin'] = pd.to_datetime(searches['ds_checkin'])\n",
    "searches['ds_checkout'] = pd.to_datetime(searches['ds_checkout'])\n",
    "\n",
    "# understanding how soon the customer wants the room\n",
    "\n",
    "searches['length_prep'] = searches['ds_checkin'] - searches['ds']"
   ]
  },
  {
   "cell_type": "code",
   "execution_count": 10,
   "id": "82824e25-2d33-43c4-bb72-2fdd45172dcf",
   "metadata": {},
   "outputs": [
    {
     "data": {
      "text/html": [
       "<div>\n",
       "<style scoped>\n",
       "    .dataframe tbody tr th:only-of-type {\n",
       "        vertical-align: middle;\n",
       "    }\n",
       "\n",
       "    .dataframe tbody tr th {\n",
       "        vertical-align: top;\n",
       "    }\n",
       "\n",
       "    .dataframe thead th {\n",
       "        text-align: right;\n",
       "    }\n",
       "</style>\n",
       "<table border=\"1\" class=\"dataframe\">\n",
       "  <thead>\n",
       "    <tr style=\"text-align: right;\">\n",
       "      <th></th>\n",
       "      <th>n_searches</th>\n",
       "      <th>n_nights</th>\n",
       "      <th>n_guests_min</th>\n",
       "      <th>n_guests_max</th>\n",
       "      <th>filter_price_min</th>\n",
       "      <th>filter_price_max</th>\n",
       "      <th>length_prep</th>\n",
       "    </tr>\n",
       "  </thead>\n",
       "  <tbody>\n",
       "    <tr>\n",
       "      <th>count</th>\n",
       "      <td>35737.000000</td>\n",
       "      <td>23888.000000</td>\n",
       "      <td>35737.000000</td>\n",
       "      <td>35737.000000</td>\n",
       "      <td>13322.000000</td>\n",
       "      <td>1.332200e+04</td>\n",
       "      <td>23888</td>\n",
       "    </tr>\n",
       "    <tr>\n",
       "      <th>mean</th>\n",
       "      <td>9.206565</td>\n",
       "      <td>7.672765</td>\n",
       "      <td>1.742955</td>\n",
       "      <td>2.105857</td>\n",
       "      <td>8.470200</td>\n",
       "      <td>9.019063e+07</td>\n",
       "      <td>51 days 08:11:53.730743469</td>\n",
       "    </tr>\n",
       "    <tr>\n",
       "      <th>std</th>\n",
       "      <td>17.348746</td>\n",
       "      <td>21.557614</td>\n",
       "      <td>1.460440</td>\n",
       "      <td>1.817358</td>\n",
       "      <td>53.987679</td>\n",
       "      <td>2.978482e+08</td>\n",
       "      <td>65 days 18:56:19.491940518</td>\n",
       "    </tr>\n",
       "    <tr>\n",
       "      <th>min</th>\n",
       "      <td>1.000000</td>\n",
       "      <td>0.000000</td>\n",
       "      <td>1.000000</td>\n",
       "      <td>1.000000</td>\n",
       "      <td>0.000000</td>\n",
       "      <td>9.000000e+00</td>\n",
       "      <td>-1 days +00:00:00</td>\n",
       "    </tr>\n",
       "    <tr>\n",
       "      <th>25%</th>\n",
       "      <td>1.000000</td>\n",
       "      <td>2.000000</td>\n",
       "      <td>1.000000</td>\n",
       "      <td>1.000000</td>\n",
       "      <td>0.000000</td>\n",
       "      <td>8.600000e+01</td>\n",
       "      <td>10 days 00:00:00</td>\n",
       "    </tr>\n",
       "    <tr>\n",
       "      <th>50%</th>\n",
       "      <td>4.000000</td>\n",
       "      <td>3.000000</td>\n",
       "      <td>1.000000</td>\n",
       "      <td>2.000000</td>\n",
       "      <td>0.000000</td>\n",
       "      <td>1.390000e+02</td>\n",
       "      <td>26 days 00:00:00</td>\n",
       "    </tr>\n",
       "    <tr>\n",
       "      <th>75%</th>\n",
       "      <td>10.000000</td>\n",
       "      <td>5.000000</td>\n",
       "      <td>2.000000</td>\n",
       "      <td>2.000000</td>\n",
       "      <td>0.000000</td>\n",
       "      <td>3.010000e+02</td>\n",
       "      <td>67 days 00:00:00</td>\n",
       "    </tr>\n",
       "    <tr>\n",
       "      <th>max</th>\n",
       "      <td>448.000000</td>\n",
       "      <td>399.000000</td>\n",
       "      <td>16.000000</td>\n",
       "      <td>16.000000</td>\n",
       "      <td>1250.000000</td>\n",
       "      <td>1.073742e+09</td>\n",
       "      <td>604 days 00:00:00</td>\n",
       "    </tr>\n",
       "  </tbody>\n",
       "</table>\n",
       "</div>"
      ],
      "text/plain": [
       "         n_searches      n_nights  n_guests_min  n_guests_max  \\\n",
       "count  35737.000000  23888.000000  35737.000000  35737.000000   \n",
       "mean       9.206565      7.672765      1.742955      2.105857   \n",
       "std       17.348746     21.557614      1.460440      1.817358   \n",
       "min        1.000000      0.000000      1.000000      1.000000   \n",
       "25%        1.000000      2.000000      1.000000      1.000000   \n",
       "50%        4.000000      3.000000      1.000000      2.000000   \n",
       "75%       10.000000      5.000000      2.000000      2.000000   \n",
       "max      448.000000    399.000000     16.000000     16.000000   \n",
       "\n",
       "       filter_price_min  filter_price_max                 length_prep  \n",
       "count      13322.000000      1.332200e+04                       23888  \n",
       "mean           8.470200      9.019063e+07  51 days 08:11:53.730743469  \n",
       "std           53.987679      2.978482e+08  65 days 18:56:19.491940518  \n",
       "min            0.000000      9.000000e+00           -1 days +00:00:00  \n",
       "25%            0.000000      8.600000e+01            10 days 00:00:00  \n",
       "50%            0.000000      1.390000e+02            26 days 00:00:00  \n",
       "75%            0.000000      3.010000e+02            67 days 00:00:00  \n",
       "max         1250.000000      1.073742e+09           604 days 00:00:00  "
      ]
     },
     "execution_count": 10,
     "metadata": {},
     "output_type": "execute_result"
    }
   ],
   "source": [
    "# describing searches dataset\n",
    "\n",
    "searches.describe()"
   ]
  },
  {
   "cell_type": "code",
   "execution_count": 11,
   "id": "ee526188-d34f-4dd5-80fb-8542b51085bc",
   "metadata": {},
   "outputs": [
    {
     "data": {
      "text/plain": [
       "n_searches           7.509258\n",
       "n_nights             9.942364\n",
       "n_guests_min         3.583798\n",
       "n_guests_max         3.148548\n",
       "filter_price_min    11.087745\n",
       "filter_price_max     2.999833\n",
       "dtype: float64"
      ]
     },
     "metadata": {},
     "output_type": "display_data"
    }
   ],
   "source": [
    "# calculating skews in dataset\n",
    "\n",
    "display(searches.skew(axis = 0, numeric_only = True, skipna = True))"
   ]
  },
  {
   "cell_type": "markdown",
   "id": "07682be0-3623-47a6-a011-413b0c511f02",
   "metadata": {},
   "source": [
    "### Distributions\n",
    "\n",
    "+ Find the number of people searched for when booking rooms\n",
    "+ It is important to understand the most searched number of guests for our exploration and to inform the incoming Manager\n",
    "+ Start with minimum and maximum guests"
   ]
  },
  {
   "cell_type": "code",
   "execution_count": 12,
   "id": "627c268b-4277-4e45-98e4-a93b29066906",
   "metadata": {},
   "outputs": [
    {
     "data": {
      "image/png": "[encoded data removed]",
      "text/plain": [
       "<Figure size 360x360 with 1 Axes>"
      ]
     },
     "metadata": {
      "needs_background": "light"
     },
     "output_type": "display_data"
    },
    {
     "data": {
      "image/png": "[encoded data removed]",
      "text/plain": [
       "<Figure size 360x360 with 1 Axes>"
      ]
     },
     "metadata": {
      "needs_background": "light"
     },
     "output_type": "display_data"
    }
   ],
   "source": [
    "# distribution plot of the min number of guests and max number of guests\n",
    "\n",
    "sns.displot(searches, x = 'n_guests_min', color = 'brown')\n",
    "sns.displot(searches, x = 'n_guests_max', color = 'black')\n",
    "plt.show();"
   ]
  },
  {
   "cell_type": "markdown",
   "id": "c704440c-030f-4c3f-9827-a6c1ffc6f1c3",
   "metadata": {},
   "source": [
    "## Observations\n",
    "\n",
    "+ Both graph distributions are somewhat similar\n",
    "+ In both minimum and maximum graphs, 1 is the most popular of guests searched for\n",
    "+ 2 is the second most popular\n",
    "\n",
    "### What can this mean for the business?\n",
    "\n",
    "+ It's still early to tell, but investing in smaller accomodations could be a good investment in Dublin\n",
    "\n",
    "### Next\n",
    "\n",
    "+ Let's look at the dates searched and the count for the respective date to see what that distribution looks like"
   ]
  },
  {
   "cell_type": "code",
   "execution_count": 13,
   "id": "95795379-3afa-42d1-b741-4f8d5e8cc7a2",
   "metadata": {},
   "outputs": [
    {
     "data": {
      "text/html": [
       "<div>\n",
       "<style scoped>\n",
       "    .dataframe tbody tr th:only-of-type {\n",
       "        vertical-align: middle;\n",
       "    }\n",
       "\n",
       "    .dataframe tbody tr th {\n",
       "        vertical-align: top;\n",
       "    }\n",
       "\n",
       "    .dataframe thead th {\n",
       "        text-align: right;\n",
       "    }\n",
       "</style>\n",
       "<table border=\"1\" class=\"dataframe\">\n",
       "  <thead>\n",
       "    <tr style=\"text-align: right;\">\n",
       "      <th></th>\n",
       "      <th>ds</th>\n",
       "      <th>id_user</th>\n",
       "      <th>ds_checkin</th>\n",
       "      <th>ds_checkout</th>\n",
       "      <th>n_searches</th>\n",
       "      <th>n_nights</th>\n",
       "      <th>n_guests_min</th>\n",
       "      <th>n_guests_max</th>\n",
       "      <th>origin_country</th>\n",
       "      <th>filter_price_min</th>\n",
       "      <th>filter_price_max</th>\n",
       "      <th>filter_room_types</th>\n",
       "      <th>length_prep</th>\n",
       "    </tr>\n",
       "  </thead>\n",
       "  <tbody>\n",
       "    <tr>\n",
       "      <th>0</th>\n",
       "      <td>2014-10-01</td>\n",
       "      <td>0000af0a-6f26-4233-9832-27efbfb36148</td>\n",
       "      <td>2014-10-09</td>\n",
       "      <td>2014-10-12</td>\n",
       "      <td>16</td>\n",
       "      <td>3.0</td>\n",
       "      <td>2</td>\n",
       "      <td>2</td>\n",
       "      <td>IE</td>\n",
       "      <td>0.0</td>\n",
       "      <td>67.0</td>\n",
       "      <td>,Entire home/apt,Entire home/apt,Private room,...</td>\n",
       "      <td>8 days</td>\n",
       "    </tr>\n",
       "    <tr>\n",
       "      <th>1</th>\n",
       "      <td>2014-10-01</td>\n",
       "      <td>0000af0a-6f26-4233-9832-27efbfb36148</td>\n",
       "      <td>2014-10-09</td>\n",
       "      <td>2014-10-19</td>\n",
       "      <td>3</td>\n",
       "      <td>10.0</td>\n",
       "      <td>1</td>\n",
       "      <td>2</td>\n",
       "      <td>IE</td>\n",
       "      <td>0.0</td>\n",
       "      <td>67.0</td>\n",
       "      <td>NaN</td>\n",
       "      <td>8 days</td>\n",
       "    </tr>\n",
       "    <tr>\n",
       "      <th>2</th>\n",
       "      <td>2014-10-01</td>\n",
       "      <td>000cd9d3-e05b-4016-9e09-34a6f8ba2fc5</td>\n",
       "      <td>NaT</td>\n",
       "      <td>NaT</td>\n",
       "      <td>1</td>\n",
       "      <td>NaN</td>\n",
       "      <td>1</td>\n",
       "      <td>1</td>\n",
       "      <td>GB</td>\n",
       "      <td>NaN</td>\n",
       "      <td>NaN</td>\n",
       "      <td>NaN</td>\n",
       "      <td>NaT</td>\n",
       "    </tr>\n",
       "    <tr>\n",
       "      <th>3</th>\n",
       "      <td>2014-10-01</td>\n",
       "      <td>000cd9d3-e05b-4016-9e09-34a6f8ba2fc5</td>\n",
       "      <td>2014-11-08</td>\n",
       "      <td>2014-11-10</td>\n",
       "      <td>11</td>\n",
       "      <td>2.0</td>\n",
       "      <td>1</td>\n",
       "      <td>2</td>\n",
       "      <td>GB</td>\n",
       "      <td>NaN</td>\n",
       "      <td>NaN</td>\n",
       "      <td>,Entire home/apt</td>\n",
       "      <td>38 days</td>\n",
       "    </tr>\n",
       "    <tr>\n",
       "      <th>4</th>\n",
       "      <td>2014-10-01</td>\n",
       "      <td>001c04f0-5a94-4ee0-bf5d-3591265256de</td>\n",
       "      <td>NaT</td>\n",
       "      <td>NaT</td>\n",
       "      <td>1</td>\n",
       "      <td>NaN</td>\n",
       "      <td>1</td>\n",
       "      <td>1</td>\n",
       "      <td>IE</td>\n",
       "      <td>NaN</td>\n",
       "      <td>NaN</td>\n",
       "      <td>NaN</td>\n",
       "      <td>NaT</td>\n",
       "    </tr>\n",
       "  </tbody>\n",
       "</table>\n",
       "</div>"
      ],
      "text/plain": [
       "          ds                               id_user ds_checkin ds_checkout  \\\n",
       "0 2014-10-01  0000af0a-6f26-4233-9832-27efbfb36148 2014-10-09  2014-10-12   \n",
       "1 2014-10-01  0000af0a-6f26-4233-9832-27efbfb36148 2014-10-09  2014-10-19   \n",
       "2 2014-10-01  000cd9d3-e05b-4016-9e09-34a6f8ba2fc5        NaT         NaT   \n",
       "3 2014-10-01  000cd9d3-e05b-4016-9e09-34a6f8ba2fc5 2014-11-08  2014-11-10   \n",
       "4 2014-10-01  001c04f0-5a94-4ee0-bf5d-3591265256de        NaT         NaT   \n",
       "\n",
       "   n_searches  n_nights  n_guests_min  n_guests_max origin_country  \\\n",
       "0          16       3.0             2             2             IE   \n",
       "1           3      10.0             1             2             IE   \n",
       "2           1       NaN             1             1             GB   \n",
       "3          11       2.0             1             2             GB   \n",
       "4           1       NaN             1             1             IE   \n",
       "\n",
       "   filter_price_min  filter_price_max  \\\n",
       "0               0.0              67.0   \n",
       "1               0.0              67.0   \n",
       "2               NaN               NaN   \n",
       "3               NaN               NaN   \n",
       "4               NaN               NaN   \n",
       "\n",
       "                                   filter_room_types length_prep  \n",
       "0  ,Entire home/apt,Entire home/apt,Private room,...      8 days  \n",
       "1                                                NaN      8 days  \n",
       "2                                                NaN         NaT  \n",
       "3                                   ,Entire home/apt     38 days  \n",
       "4                                                NaN         NaT  "
      ]
     },
     "execution_count": 13,
     "metadata": {},
     "output_type": "execute_result"
    }
   ],
   "source": [
    "searches.head(5)"
   ]
  },
  {
   "cell_type": "code",
   "execution_count": 14,
   "id": "54f4428d-8e31-43ea-81af-1de43c5990d6",
   "metadata": {},
   "outputs": [
    {
     "data": {
      "text/html": [
       "<div>\n",
       "<style scoped>\n",
       "    .dataframe tbody tr th:only-of-type {\n",
       "        vertical-align: middle;\n",
       "    }\n",
       "\n",
       "    .dataframe tbody tr th {\n",
       "        vertical-align: top;\n",
       "    }\n",
       "\n",
       "    .dataframe thead th {\n",
       "        text-align: right;\n",
       "    }\n",
       "</style>\n",
       "<table border=\"1\" class=\"dataframe\">\n",
       "  <thead>\n",
       "    <tr style=\"text-align: right;\">\n",
       "      <th></th>\n",
       "      <th>ds</th>\n",
       "      <th>searches count</th>\n",
       "      <th>date</th>\n",
       "    </tr>\n",
       "  </thead>\n",
       "  <tbody>\n",
       "    <tr>\n",
       "      <th>0</th>\n",
       "      <td>2014-10-01</td>\n",
       "      <td>2628</td>\n",
       "      <td>2014-10-01</td>\n",
       "    </tr>\n",
       "    <tr>\n",
       "      <th>1</th>\n",
       "      <td>2014-10-02</td>\n",
       "      <td>2627</td>\n",
       "      <td>2014-10-02</td>\n",
       "    </tr>\n",
       "    <tr>\n",
       "      <th>2</th>\n",
       "      <td>2014-10-03</td>\n",
       "      <td>2363</td>\n",
       "      <td>2014-10-03</td>\n",
       "    </tr>\n",
       "    <tr>\n",
       "      <th>3</th>\n",
       "      <td>2014-10-04</td>\n",
       "      <td>2226</td>\n",
       "      <td>2014-10-04</td>\n",
       "    </tr>\n",
       "    <tr>\n",
       "      <th>4</th>\n",
       "      <td>2014-10-05</td>\n",
       "      <td>2612</td>\n",
       "      <td>2014-10-05</td>\n",
       "    </tr>\n",
       "    <tr>\n",
       "      <th>5</th>\n",
       "      <td>2014-10-06</td>\n",
       "      <td>2758</td>\n",
       "      <td>2014-10-06</td>\n",
       "    </tr>\n",
       "    <tr>\n",
       "      <th>6</th>\n",
       "      <td>2014-10-07</td>\n",
       "      <td>2606</td>\n",
       "      <td>2014-10-07</td>\n",
       "    </tr>\n",
       "    <tr>\n",
       "      <th>7</th>\n",
       "      <td>2014-10-08</td>\n",
       "      <td>2584</td>\n",
       "      <td>2014-10-08</td>\n",
       "    </tr>\n",
       "    <tr>\n",
       "      <th>8</th>\n",
       "      <td>2014-10-09</td>\n",
       "      <td>2430</td>\n",
       "      <td>2014-10-09</td>\n",
       "    </tr>\n",
       "    <tr>\n",
       "      <th>9</th>\n",
       "      <td>2014-10-10</td>\n",
       "      <td>2081</td>\n",
       "      <td>2014-10-10</td>\n",
       "    </tr>\n",
       "    <tr>\n",
       "      <th>10</th>\n",
       "      <td>2014-10-11</td>\n",
       "      <td>2122</td>\n",
       "      <td>2014-10-11</td>\n",
       "    </tr>\n",
       "    <tr>\n",
       "      <th>11</th>\n",
       "      <td>2014-10-12</td>\n",
       "      <td>2716</td>\n",
       "      <td>2014-10-12</td>\n",
       "    </tr>\n",
       "    <tr>\n",
       "      <th>12</th>\n",
       "      <td>2014-10-13</td>\n",
       "      <td>2973</td>\n",
       "      <td>2014-10-13</td>\n",
       "    </tr>\n",
       "    <tr>\n",
       "      <th>13</th>\n",
       "      <td>2014-10-14</td>\n",
       "      <td>3011</td>\n",
       "      <td>2014-10-14</td>\n",
       "    </tr>\n",
       "  </tbody>\n",
       "</table>\n",
       "</div>"
      ],
      "text/plain": [
       "           ds  searches count        date\n",
       "0  2014-10-01            2628  2014-10-01\n",
       "1  2014-10-02            2627  2014-10-02\n",
       "2  2014-10-03            2363  2014-10-03\n",
       "3  2014-10-04            2226  2014-10-04\n",
       "4  2014-10-05            2612  2014-10-05\n",
       "5  2014-10-06            2758  2014-10-06\n",
       "6  2014-10-07            2606  2014-10-07\n",
       "7  2014-10-08            2584  2014-10-08\n",
       "8  2014-10-09            2430  2014-10-09\n",
       "9  2014-10-10            2081  2014-10-10\n",
       "10 2014-10-11            2122  2014-10-11\n",
       "11 2014-10-12            2716  2014-10-12\n",
       "12 2014-10-13            2973  2014-10-13\n",
       "13 2014-10-14            3011  2014-10-14"
      ]
     },
     "execution_count": 14,
     "metadata": {},
     "output_type": "execute_result"
    }
   ],
   "source": [
    "dates_searched = searches.groupby('ds')['id_user'].count().reset_index().rename({\"id_user\" : \"searches count\"}, axis = 1)\n",
    "dates_searched['date'] = pd.to_datetime(dates_searched['ds']).dt.date\n",
    "dates_searched"
   ]
  },
  {
   "cell_type": "code",
   "execution_count": 15,
   "id": "c2da62f2-b3cc-4fdd-b4c2-7faface9008c",
   "metadata": {},
   "outputs": [
    {
     "data": {
      "image/png": "[encoded data removed]",
      "text/plain": [
       "<Figure size 432x288 with 1 Axes>"
      ]
     },
     "metadata": {
      "needs_background": "light"
     },
     "output_type": "display_data"
    }
   ],
   "source": [
    "sns.barplot(x = 'date', y = 'searches count', data = dates_searched)\n",
    "plt.title('Counts by date')\n",
    "plt.xlabel('date searches')\n",
    "plt.ylabel('count of searches')\n",
    "plt.xticks(rotation = 90)\n",
    "\n",
    "plt.show();"
   ]
  },
  {
   "cell_type": "markdown",
   "id": "1d323a95-b7c6-451d-a760-0a8b18daf181",
   "metadata": {},
   "source": [
    "### Takeaways from the visual above\n",
    "\n",
    "+ All the searches were between October 1st to October 14th\n",
    "+ There are some days that received more searches, but there isn't any major fluctuations\n",
    "\n",
    "\n",
    "### Next steps\n",
    "\n",
    "+ So far, rooms for 1 and 2 seem to be the most popular choices in Dublin\n",
    "+ Now let's understand the financial side of the searches\n",
    "+ What is the maximum price are willing to pay? And the lowest?\n",
    "+ What does the financial distribution look like grouped by hundreds?"
   ]
  },
  {
   "cell_type": "code",
   "execution_count": 16,
   "id": "a7d196ed-efab-4821-90d2-6a8792612751",
   "metadata": {},
   "outputs": [
    {
     "name": "stdout",
     "output_type": "stream",
     "text": [
      "The percentage of searches above $500 per room is 6.14%\n"
     ]
    }
   ],
   "source": [
    "# trying to understand the % of searches above $500 per room\n",
    "\n",
    "max_price_searches = round(len(searches[searches['filter_price_max'] > 500]) / len(searches['filter_price_max'])*100,2)\n",
    "print(f\"The percentage of searches above $500 per room is {max_price_searches}%\")"
   ]
  },
  {
   "cell_type": "code",
   "execution_count": 17,
   "id": "044b8090-72e4-47f3-bb5a-058ec576d4cc",
   "metadata": {},
   "outputs": [
    {
     "data": {
      "image/png": "[encoded data removed]",
      "text/plain": [
       "<Figure size 360x360 with 1 Axes>"
      ]
     },
     "metadata": {
      "needs_background": "light"
     },
     "output_type": "display_data"
    }
   ],
   "source": [
    "# now let's work on the financial distribution\n",
    "# also removing anything higher than $500\n",
    "\n",
    "search_price_distr = searches[searches['filter_price_max'] <= 500]\n",
    "\n",
    "palette = sns.color_palette('bright')\n",
    "\n",
    "sns.displot(x = search_price_distr['filter_price_max'], color = 'red')\n",
    "plt.show();"
   ]
  },
  {
   "cell_type": "markdown",
   "id": "5b2834b2-c4fa-460f-8f8b-a595567d867a",
   "metadata": {},
   "source": [
    "### Let's understand what % of searches had a maximum of price of $200 or below\n",
    "\n",
    "+ Looking at the graph above, it looks like it is a large percentage of searches\n",
    "+ With most of the searches coming in closer to $100 a night\n",
    "+ We know from the searches that the most popular number of guests was 1 or 2"
   ]
  },
  {
   "cell_type": "code",
   "execution_count": 18,
   "id": "8bdc1b0e-20d2-4c01-ac5a-33c4c26173b6",
   "metadata": {},
   "outputs": [
    {
     "name": "stdout",
     "output_type": "stream",
     "text": [
      "The percentage of searches under $200/night per room is 77.5%\n"
     ]
    }
   ],
   "source": [
    "searches_under_200 = round(len(search_price_distr[search_price_distr['filter_price_max'] <= 200]) / len(search_price_distr['filter_price_max']) * 100, 1)\n",
    "\n",
    "print(f\"The percentage of searches under $200/night per room is {searches_under_200}%\")"
   ]
  },
  {
   "cell_type": "code",
   "execution_count": 19,
   "id": "2a19bd15-0798-4447-820f-aa9f11bcd3f1",
   "metadata": {},
   "outputs": [
    {
     "name": "stdout",
     "output_type": "stream",
     "text": [
      "The percentage of searches under $100/night per room is 40.6%\n"
     ]
    }
   ],
   "source": [
    "searches_under_100 = round(len(search_price_distr[search_price_distr['filter_price_max'] <= 100]) / len(search_price_distr['filter_price_max']) * 100, 1)\n",
    "\n",
    "print(f\"The percentage of searches under $100/night per room is {searches_under_100}%\")"
   ]
  },
  {
   "cell_type": "code",
   "execution_count": 20,
   "id": "9ba16405-4ac2-46b8-8592-e09a10c50349",
   "metadata": {},
   "outputs": [
    {
     "name": "stdout",
     "output_type": "stream",
     "text": [
      "For the searches under $200/per room per night, 98.8% of the searches had a filter for a maximum of 2 guests. When the search was for $100/ per room per night, 73.8% were for one guest\n",
      "This means the average customer is willing to spend close to $100/per room per night\n"
     ]
    }
   ],
   "source": [
    "guests_under_200 = round(len(search_price_distr[search_price_distr['n_guests_max'] <= 2]) / len(search_price_distr[search_price_distr['filter_price_max'] <= 200]) * 100, 1)\n",
    "guests_under_100 = round(len(search_price_distr[search_price_distr['n_guests_max'] <= 1]) / len(search_price_distr[search_price_distr['filter_price_max'] <= 100]) * 100, 1)\n",
    "\n",
    "print(f\"For the searches under $200/per room per night, {guests_under_200}% of the searches had a filter for a maximum of 2 guests. When the search was for $100/ per room per night, {guests_under_100}% were for one guest\")\n",
    "print(\"This means the average customer is willing to spend close to $100/per room per night\")"
   ]
  },
  {
   "cell_type": "markdown",
   "id": "79a61663-dbf3-4939-b405-e3fa8ab098d5",
   "metadata": {},
   "source": [
    "### Key Takeaways\n",
    "\n",
    "+ 78% percent  of searches had a maximum price of \\$200/ per room per night\n",
    "+ For \\$100/ per room per night, 74%  percent of those searches were for one guest\n",
    "+ Meaning, there are couple also looking for more affordable options as well\n",
    "\n",
    "\n",
    "### Next Steps\n",
    "\n",
    "+ Calculate how soon people want the rooms\n",
    "+ In order for that to occur, we need to convert length_prep into integers for filtering\n",
    "+ Create a visual distribution for how soon customer want the rooms"
   ]
  },
  {
   "cell_type": "code",
   "execution_count": 21,
   "id": "9655adf4-53a0-4a2a-b51c-eb58d2f78c44",
   "metadata": {},
   "outputs": [
    {
     "name": "stdout",
     "output_type": "stream",
     "text": [
      "Customers were looking for a room 100 days in advance or longer made up 9.4 % of all searches\n"
     ]
    }
   ],
   "source": [
    "# changing the column to int data type for filtering \n",
    "distribution = searches['length_prep'] / np.timedelta64(1, 'D')\n",
    "\n",
    "# understanding how many customers are looking for a room 100 days in advance\n",
    "over_100 = round(len(distribution[distribution > 100])/len(distribution)*100,2)\n",
    "\n",
    "# statement stating the \n",
    "print(f\"Customers were looking for a room 100 days in advance or longer made up {over_100} % of all searches\")"
   ]
  },
  {
   "cell_type": "code",
   "execution_count": 22,
   "id": "88587743-8872-4f96-99a5-d5fb1ef7accc",
   "metadata": {},
   "outputs": [
    {
     "data": {
      "image/png": "[encoded data removed]",
      "text/plain": [
       "<Figure size 360x360 with 1 Axes>"
      ]
     },
     "metadata": {
      "needs_background": "light"
     },
     "output_type": "display_data"
    }
   ],
   "source": [
    "# removing any room searches above 100 days in advance\n",
    "distribution = distribution[distribution < 100]\n",
    "\n",
    "# creating a visual to visualize the distribution\n",
    "sns.displot(x = distribution, color = 'blue')\n",
    "plt.show();"
   ]
  },
  {
   "cell_type": "code",
   "execution_count": 23,
   "id": "9bc9b1b6-2c80-41ac-b8c8-c06e191b7286",
   "metadata": {},
   "outputs": [],
   "source": [
    "# understanding the % of customers who want a room within 7 days or less\n",
    "week = round(len(distribution[distribution <= 7])/len(distribution) * 100., 2)\n",
    "# week\n",
    "\n",
    "# understanding the % of customers who want a room within 14 days or less\n",
    "two_weeks = round((len(distribution[distribution <= 14])/len(distribution) * 100) - week, 2)\n",
    "# two_weeks\n",
    "\n",
    "# understanding the % of customers who want a room within 21 days or less\n",
    "three_weeks = round((len(distribution[distribution <= 21])/len(distribution) * 100) - (week+two_weeks) , 2)\n",
    "# three_weeks\n",
    "\n",
    "total_under_three = round(week + two_weeks + three_weeks, 1)"
   ]
  },
  {
   "cell_type": "code",
   "execution_count": 24,
   "id": "6e9fab2e-51e8-4a84-a78b-ccd8ce395781",
   "metadata": {},
   "outputs": [
    {
     "name": "stdout",
     "output_type": "stream",
     "text": [
      "23.7% of Customers are searching for a room within a week\n",
      "13.46% of Customers are searching for a room within a two weeks\n",
      "12.52% of Customers are searching for a room within a three weeks\n",
      "Therefore, a total of 49.7% of customers are searching for a room within three weeks or less\n"
     ]
    }
   ],
   "source": [
    "print(f\"{week}% of Customers are searching for a room within a week\")\n",
    "print(f\"{two_weeks}% of Customers are searching for a room within a two weeks\")\n",
    "print(f\"{three_weeks}% of Customers are searching for a room within a three weeks\")\n",
    "print(f\"Therefore, a total of {total_under_three}% of customers are searching for a room within three weeks or less\")"
   ]
  },
  {
   "cell_type": "markdown",
   "id": "94e66466-37f7-48dd-a7be-72dafda45b4d",
   "metadata": {},
   "source": [
    "### Key Takeaways from Searches and Time To Book\n",
    "\n",
    "+ 23.7% of Customers are searching for a room within a week\n",
    "+ 13.5% of Customers are searching for a room two weeks in advance\n",
    "+ Another 12.5% of Customers are looking for a room three weeks in advance\n",
    "+ In total, 49.7% of Customers are looking for rooms 1 to 3 weeks ahead of time"
   ]
  },
  {
   "cell_type": "markdown",
   "id": "911f7fa4-dbd7-4629-ad75-1040ffa09dc8",
   "metadata": {},
   "source": [
    "### Duration Periods\n",
    "\n",
    "+ So far, the data exploration has led us to understanding how soon a customer wants a room\n",
    "+ Now the next big question is, on average, how many nights are customers looking to spend during their getaway?"
   ]
  },
  {
   "cell_type": "code",
   "execution_count": 63,
   "id": "4ad66ef9-c40a-45aa-84c0-5c1dc2cec5e7",
   "metadata": {},
   "outputs": [
    {
     "data": {
      "image/png": "[encoded data removed]",
      "text/plain": [
       "<Figure size 360x360 with 1 Axes>"
      ]
     },
     "metadata": {
      "needs_background": "light"
     },
     "output_type": "display_data"
    }
   ],
   "source": [
    "# creating a dataframe for only searches for 21 nights and under\n",
    "searches_twentyone_under = searches[searches['n_nights'] <= 21]\n",
    "\n",
    "# understanding the % of null values in n_nights\n",
    "perc_null = round(searches['n_nights'].isnull().sum() / len(searches) * 100, 1)\n",
    "\n",
    "# creating a visual for distribution of nights \n",
    "sns.displot(searches_twentyone_under, x = 'n_nights', color = 'red')\n",
    "plt.show();"
   ]
  },
  {
   "cell_type": "markdown",
   "id": "b815ad64-90bb-4b19-b754-06a494405471",
   "metadata": {},
   "source": [
    "### Important Notes\n",
    "\n",
    "+ 33.2% of number of nights searches were null, and 4.5% were for searches above 21 nights\n",
    "+ For this reason, the dataset containing only searches for 21 nights and under is used\n",
    "\n",
    "\n",
    "### Next\n",
    "\n",
    "+ What is average number of nights per search?\n",
    "+ What is the median number of nights per search?\n",
    "+ From these numbers, what % of searches involved the answer to questions 1 and 2 above?\n",
    "+ How many customers are searching for 7 nights or more?"
   ]
  },
  {
   "cell_type": "code",
   "execution_count": 82,
   "id": "4e3ff50c-1dc4-46fa-9859-4f5866fc65a3",
   "metadata": {},
   "outputs": [
    {
     "name": "stdout",
     "output_type": "stream",
     "text": [
      "The average number of nights per search is 3.87. The median number of nights is 3.0\n"
     ]
    }
   ],
   "source": [
    "# calculating the average number of nights searched for\n",
    "avg_nights = round(searches_twentyone_under['n_nights'].mean(), 2)\n",
    "\n",
    "# calculating the median number of nights searched for\n",
    "median_nights = round(searches_twentyone_under['n_nights'].median(), 2)\n",
    "\n",
    "print(f\"The average number of nights per search is {avg_nights}. The median number of nights is {median_nights}\")"
   ]
  },
  {
   "cell_type": "markdown",
   "id": "abd9ec5a-b5f9-456b-8f20-96a6fa43c700",
   "metadata": {},
   "source": [
    "### Insight\n",
    "\n",
    "+ Based on the mean and median number of nights, let's try to understand what % of the dataset were for searches for one to four days\n",
    "+ Now that we know the most common search was for 3-4 nights, what % of customers were looking for 7 or more nights?\n",
    "\n",
    "### Next\n",
    "\n",
    "+ What % of customer searches were for 4 nights and under? 75% as shown below\n",
    "+ What % of customer searches were for a week or more? 14.2% "
   ]
  },
  {
   "cell_type": "code",
   "execution_count": 83,
   "id": "cfac66dc-141c-43fd-893c-8c03ef59882d",
   "metadata": {},
   "outputs": [
    {
     "name": "stdout",
     "output_type": "stream",
     "text": [
      "After analyzing the data, 75.0% were for customers searching 4 nights or less.\n",
      "14.2% were customers searching 7 nights or more.\n"
     ]
    }
   ],
   "source": [
    "# calculating percentage of searches 21 nights and under\n",
    "perc_under_twentyone = round(len(searches_twentyone_under['n_nights']) / len(searches['n_nights']) * 100, 1)\n",
    "\n",
    "# filtering the twenty one and under dataset for 1 to 4 nights only\n",
    "one_to_four = searches_twentyone_under[(searches_twentyone_under['n_nights'] >= 1) & (searches_twentyone_under['n_nights'] <= 4)]\n",
    "\n",
    "# calculating percentage of searches between one to four nights in the dataset of 21 days and under\n",
    "perc_one_to_four = round(len(one_to_four) / len(searches_twentyone_under) * 100, 1)\n",
    "\n",
    "# filtering the twenty one and under dataset for 7 nights or more \n",
    "over_week = searches_twentyone_under[searches_twentyone_under['n_nights'] >= 7]\n",
    "\n",
    "# calculating percentage of searches between one to four nights in the dataset of 21 days and under\n",
    "perc_over_week = round(len(over_week) / len(searches_twentyone_under) * 100, 1)\n",
    "\n",
    "print(f\"After analyzing the data, {perc_one_to_four}% were for customers searching 4 nights or less.\")\n",
    "print(f\"{perc_over_week}% were customers searching 7 nights or more.\")"
   ]
  },
  {
   "cell_type": "markdown",
   "id": "da05a935-6247-48ba-9c21-09c1ae2b3a1c",
   "metadata": {},
   "source": [
    "## Understand the Timing of the Searches\n",
    "\n",
    "+ What month are customers most interested in visting Dublin?\n",
    "+ Is there a correlation between months?"
   ]
  }
 ],
 "metadata": {
  "kernelspec": {
   "display_name": "Python 3",
   "language": "python",
   "name": "python3"
  },
  "language_info": {
   "codemirror_mode": {
    "name": "ipython",
    "version": 3
   },
   "file_extension": ".py",
   "mimetype": "text/x-python",
   "name": "python",
   "nbconvert_exporter": "python",
   "pygments_lexer": "ipython3",
   "version": "3.8.8"
  }
 },
 "nbformat": 4,
 "nbformat_minor": 5
}
